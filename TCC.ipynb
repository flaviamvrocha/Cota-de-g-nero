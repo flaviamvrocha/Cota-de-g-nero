{
  "nbformat": 4,
  "nbformat_minor": 0,
  "metadata": {
    "colab": {
      "name": "TCC.ipynb",
      "provenance": [],
      "authorship_tag": "ABX9TyPi8TlC7fGEce8MQ15zD9u5",
      "include_colab_link": true
    },
    "kernelspec": {
      "name": "python3",
      "display_name": "Python 3"
    },
    "language_info": {
      "name": "python"
    }
  },
  "cells": [
    {
      "cell_type": "markdown",
      "metadata": {
        "id": "view-in-github",
        "colab_type": "text"
      },
      "source": [
        "<a href=\"https://colab.research.google.com/github/flaviamvrocha/Cota-de-g-nero/blob/main/TCC.ipynb\" target=\"_parent\"><img src=\"https://colab.research.google.com/assets/colab-badge.svg\" alt=\"Open In Colab\"/></a>"
      ]
    },
    {
      "cell_type": "code",
      "metadata": {
        "colab": {
          "base_uri": "https://localhost:8080/"
        },
        "id": "Qo_avv-7R_rE",
        "outputId": "74e871a9-a92e-4c19-de87-c5d76f784b11"
      },
      "source": [
        "import pandas as pd\n",
        "import numpy as np\n",
        "%matplotlib inline\n",
        "%pylab inline\n",
        "import matplotlib.pyplot as plt\n",
        "import seaborn as sns\n",
        "plt.style.use('ggplot')"
      ],
      "execution_count": 32,
      "outputs": [
        {
          "output_type": "stream",
          "text": [
            "Populating the interactive namespace from numpy and matplotlib\n"
          ],
          "name": "stdout"
        }
      ]
    },
    {
      "cell_type": "code",
      "metadata": {
        "colab": {
          "base_uri": "https://localhost:8080/"
        },
        "id": "1vf-eQ-QRtx3",
        "outputId": "0a598aa6-8b60-4185-ca4a-ae7d36024839"
      },
      "source": [
        "pip install electionsBR"
      ],
      "execution_count": 3,
      "outputs": [
        {
          "output_type": "stream",
          "text": [
            "Requirement already satisfied: electionsBR in /usr/local/lib/python3.7/dist-packages (0.0.5)\n",
            "Requirement already satisfied: requests in /usr/local/lib/python3.7/dist-packages (from electionsBR) (2.23.0)\n",
            "Requirement already satisfied: pandas in /usr/local/lib/python3.7/dist-packages (from electionsBR) (1.1.5)\n",
            "Requirement already satisfied: certifi>=2017.4.17 in /usr/local/lib/python3.7/dist-packages (from requests->electionsBR) (2020.12.5)\n",
            "Requirement already satisfied: idna<3,>=2.5 in /usr/local/lib/python3.7/dist-packages (from requests->electionsBR) (2.10)\n",
            "Requirement already satisfied: urllib3!=1.25.0,!=1.25.1,<1.26,>=1.21.1 in /usr/local/lib/python3.7/dist-packages (from requests->electionsBR) (1.24.3)\n",
            "Requirement already satisfied: chardet<4,>=3.0.2 in /usr/local/lib/python3.7/dist-packages (from requests->electionsBR) (3.0.4)\n",
            "Requirement already satisfied: numpy>=1.15.4 in /usr/local/lib/python3.7/dist-packages (from pandas->electionsBR) (1.19.5)\n",
            "Requirement already satisfied: python-dateutil>=2.7.3 in /usr/local/lib/python3.7/dist-packages (from pandas->electionsBR) (2.8.1)\n",
            "Requirement already satisfied: pytz>=2017.2 in /usr/local/lib/python3.7/dist-packages (from pandas->electionsBR) (2018.9)\n",
            "Requirement already satisfied: six>=1.5 in /usr/local/lib/python3.7/dist-packages (from python-dateutil>=2.7.3->pandas->electionsBR) (1.15.0)\n"
          ],
          "name": "stdout"
        }
      ]
    },
    {
      "cell_type": "code",
      "metadata": {
        "id": "uOwkF7yhFu-S"
      },
      "source": [
        "from scipy.stats import anderson\n",
        "import scipy.stats as stats\n"
      ],
      "execution_count": 34,
      "outputs": []
    },
    {
      "cell_type": "code",
      "metadata": {
        "id": "RvNEf75tTG0I"
      },
      "source": [
        "from electionsBR.api import get_elections, get_candidates, get_coalitions, get_secretaries, get_assets, \\\n",
        "        get_votes"
      ],
      "execution_count": 4,
      "outputs": []
    },
    {
      "cell_type": "code",
      "metadata": {
        "id": "zVsycM90SEv-"
      },
      "source": [
        "ver_08 = get_candidates(year=2008, position=\"Vereador\", encoding='latin-1', sep=',')\n",
        "ver_12 = get_candidates(year=2012, position=\"Vereador\", encoding='latin-1', sep=';')"
      ],
      "execution_count": 97,
      "outputs": []
    },
    {
      "cell_type": "code",
      "metadata": {
        "id": "u-dS8lxGTDPR"
      },
      "source": [
        "par_08 = get_elections(year=2008, position=\"Vereador\", regional_aggregation=\"Micro\", political_aggregation=\"Partido\")\n",
        "par_12 = get_elections(year=2012, position=\"Vereador\", regional_aggregation=\"Micro\", political_aggregation=\"Partido\")"
      ],
      "execution_count": 30,
      "outputs": []
    },
    {
      "cell_type": "code",
      "metadata": {
        "id": "RC-8kKqBYXKz"
      },
      "source": [
        "#Filtro por vereador e colunas que uso\n",
        "f1 = ['VEREADOR']\n",
        "f2 = ['DEFERIDO']\n",
        "f3 = ['ELEITO POR QP', 'ELEITO POR MEDIA', 'ELEITO']\n",
        "f3_1 = ['ELEITO POR QP', 'ELEITO POR MEDIA', 'ELEITO']\n",
        "f4 = ['FEMININO']\n",
        "f5 = ['MASCULINO']\n",
        "colunasSelected = ['SIGLA_UF','SIGLA_UE','COD_MUN_IBGE', 'ANO_ELEICAO', 'DESCRICAO_UE','DES_SITUACAO_CANDIDATURA','SIGLA_PARTIDO','DESCRICAO_OCUPACAO','IDADE_DATA_ELEICAO', 'DESCRICAO_SEXO','DESCRICAO_GRAU_INSTRUCAO','DESCRICAO_ESTADO_CIVIL','DESCRICAO_COR_RACA','DESC_SIT_TOT_TURNO']\n",
        "\n",
        "#filtragem\n",
        "ver_08 = ver_08[ver_08['DESCRICAO_CARGO'].isin(f1)]\n",
        "ver_12 = ver_12[ver_12['DESCRICAO_CARGO'].isin(f1)]\n",
        "ver_08 = ver_08[ver_08['DES_SITUACAO_CANDIDATURA'].isin(f2)]\n",
        "ver_12 = ver_12[ver_12['DES_SITUACAO_CANDIDATURA'].isin(f2)]\n",
        "ver_08 = ver_08.filter(items=colunasSelected)\n",
        "ver_12 = ver_12.filter(items=colunasSelected)\n",
        "#POR SEXO\n",
        "ver_08_F = ver_08[ver_08['DESCRICAO_SEXO'].isin(f4)]\n",
        "ver_12_F = ver_12[ver_12['DESCRICAO_SEXO'].isin(f4)]\n"
      ],
      "execution_count": 98,
      "outputs": []
    },
    {
      "cell_type": "code",
      "metadata": {
        "id": "sgmoX7Yi-lL7"
      },
      "source": [
        "x = ver_08.groupby(['SIGLA_UF'])[['SIGLA_UF']].count()\n",
        "y = ver_12.groupby(['SIGLA_UF'])[['SIGLA_UF']].count()\n",
        "x.columns=['Total/Estado']\n",
        "x.reset_index(inplace=True)\n",
        "y.columns=['Total/Estado']\n",
        "y.reset_index(inplace=True)"
      ],
      "execution_count": 344,
      "outputs": []
    },
    {
      "cell_type": "code",
      "metadata": {
        "id": "srsX_vTTi8Xb"
      },
      "source": [
        "#graph\n",
        "a = ver_08_F.groupby(['DESCRICAO_SEXO','SIGLA_UF'])[['DESCRICAO_SEXO']].count()\n",
        "a.columns=['Candidatas']\n",
        "a.reset_index(inplace=True)\n",
        "a['Percentual'] = round((a['Candidatas']/x['Total/Estado'])*100, ndigits=1)\n"
      ],
      "execution_count": 298,
      "outputs": []
    },
    {
      "cell_type": "code",
      "metadata": {
        "id": "_3q4Wdf4NMC6"
      },
      "source": [
        "b = ver_12_F.groupby(['DESCRICAO_SEXO','SIGLA_UF'])[['DESCRICAO_SEXO']].count()\n",
        "b.columns=['Candidatas']\n",
        "b.reset_index(inplace=True)\n",
        "b['Percentual'] = round((b['Candidatas']/y['Total/Estado'])*100, ndigits=1)"
      ],
      "execution_count": 346,
      "outputs": []
    },
    {
      "cell_type": "code",
      "metadata": {
        "colab": {
          "base_uri": "https://localhost:8080/",
          "height": 531
        },
        "id": "DGS6CzY-NVx2",
        "outputId": "27d5ff23-be7f-4bac-8dfe-a1b4957ad4a8"
      },
      "source": [
        "sns.set_theme(style=\"darkgrid\")\n",
        "tips = sns.load_dataset(\"tips\")\n",
        "plot1 = sns.barplot(x=\"SIGLA_UF\", y=\"Percentual\", data=b, hue_order=None, estimator=np.mean, ci=95, n_boot=100, units=None, seed=None,color='Grey', palette=None, saturation=0.75)\n",
        "for i in plot1.patches:\n",
        "  plot1.annotate(i.get_height(), (i.get_x() + i.get_width()/2, i.get_height()), ha='center', va='baseline', fontsize=12, color='black', xytext=(0, 1), textcoords='offset points')\n",
        "\n",
        "barWidth = 0.3\n",
        "plt.xlabel('UF')\n",
        "plt.ylabel('Percentual (%)')\n",
        "xmax = 25.6\n",
        "ymax = 100\n",
        "eixos = plt.gca()\n",
        "eixos.set_xlim([-0.7, xmax])\n",
        "eixos.set_ylim([0, ymax])\n",
        "plt.gcf().autofmt_xdate()"
      ],
      "execution_count": 348,
      "outputs": [
        {
          "output_type": "display_data",
          "data": {
            "image/png": "[encoded data removed]",
            "text/plain": [
              "<Figure size 1440x720 with 1 Axes>"
            ]
          },
          "metadata": {
            "tags": []
          }
        }
      ]
    },
    {
      "cell_type": "code",
      "metadata": {
        "id": "e3TksG9AYbar",
        "colab": {
          "base_uri": "https://localhost:8080/",
          "height": 531
        },
        "outputId": "6c91b982-9060-4860-b17a-701eae3df5c6"
      },
      "source": [
        "sns.set_theme(style=\"darkgrid\")\n",
        "tips = sns.load_dataset(\"tips\")\n",
        "plot = sns.barplot(x=\"SIGLA_UF\", y=\"Percentual\", data=a, hue_order=None, estimator=np.mean, ci=95, n_boot=100, units=None, seed=None,color='Grey', palette=None, saturation=0.75)\n",
        "for i in plot.patches:\n",
        "  plot.annotate(i.get_height(), (i.get_x() + i.get_width()/2, i.get_height()), ha='center', va='baseline', fontsize=12, color='black', xytext=(0, 1), textcoords='offset points')\n",
        "\n",
        "barWidth = 0.3\n",
        "plt.xlabel('UF')\n",
        "plt.ylabel('Percentual (%)')\n",
        "xmax = 25.6\n",
        "ymax = 100\n",
        "eixos = plt.gca()\n",
        "eixos.set_xlim([-0.7, xmax])\n",
        "eixos.set_ylim([0, ymax])\n",
        "plt.gcf().autofmt_xdate()\n"
      ],
      "execution_count": 338,
      "outputs": [
        {
          "output_type": "display_data",
          "data": {
            "image/png": "[encoded data removed]",
            "text/plain": [
              "<Figure size 1440x720 with 1 Axes>"
            ]
          },
          "metadata": {
            "tags": []
          }
        }
      ]
    },
    {
      "cell_type": "code",
      "metadata": {
        "colab": {
          "base_uri": "https://localhost:8080/",
          "height": 827
        },
        "id": "QFj1aPxnEDMu",
        "outputId": "e4694f3c-4cc6-4f6a-f9bd-5f77420edc94"
      },
      "source": [
        "a"
      ],
      "execution_count": 285,
      "outputs": [
        {
          "output_type": "execute_result",
          "data": {
            "text/html": [
              "<div>\n",
              "<style scoped>\n",
              "    .dataframe tbody tr th:only-of-type {\n",
              "        vertical-align: middle;\n",
              "    }\n",
              "\n",
              "    .dataframe tbody tr th {\n",
              "        vertical-align: top;\n",
              "    }\n",
              "\n",
              "    .dataframe thead th {\n",
              "        text-align: right;\n",
              "    }\n",
              "</style>\n",
              "<table border=\"1\" class=\"dataframe\">\n",
              "  <thead>\n",
              "    <tr style=\"text-align: right;\">\n",
              "      <th></th>\n",
              "      <th>DESCRICAO_SEXO</th>\n",
              "      <th>SIGLA_UF</th>\n",
              "      <th>Candidatas</th>\n",
              "    </tr>\n",
              "  </thead>\n",
              "  <tbody>\n",
              "    <tr>\n",
              "      <th>0</th>\n",
              "      <td>FEMININO</td>\n",
              "      <td>AC</td>\n",
              "      <td>255</td>\n",
              "    </tr>\n",
              "    <tr>\n",
              "      <th>1</th>\n",
              "      <td>FEMININO</td>\n",
              "      <td>AL</td>\n",
              "      <td>1254</td>\n",
              "    </tr>\n",
              "    <tr>\n",
              "      <th>2</th>\n",
              "      <td>FEMININO</td>\n",
              "      <td>AM</td>\n",
              "      <td>1112</td>\n",
              "    </tr>\n",
              "    <tr>\n",
              "      <th>3</th>\n",
              "      <td>FEMININO</td>\n",
              "      <td>AP</td>\n",
              "      <td>296</td>\n",
              "    </tr>\n",
              "    <tr>\n",
              "      <th>4</th>\n",
              "      <td>FEMININO</td>\n",
              "      <td>BA</td>\n",
              "      <td>5137</td>\n",
              "    </tr>\n",
              "    <tr>\n",
              "      <th>5</th>\n",
              "      <td>FEMININO</td>\n",
              "      <td>CE</td>\n",
              "      <td>2025</td>\n",
              "    </tr>\n",
              "    <tr>\n",
              "      <th>6</th>\n",
              "      <td>FEMININO</td>\n",
              "      <td>ES</td>\n",
              "      <td>1201</td>\n",
              "    </tr>\n",
              "    <tr>\n",
              "      <th>7</th>\n",
              "      <td>FEMININO</td>\n",
              "      <td>GO</td>\n",
              "      <td>2745</td>\n",
              "    </tr>\n",
              "    <tr>\n",
              "      <th>8</th>\n",
              "      <td>FEMININO</td>\n",
              "      <td>MA</td>\n",
              "      <td>3102</td>\n",
              "    </tr>\n",
              "    <tr>\n",
              "      <th>9</th>\n",
              "      <td>FEMININO</td>\n",
              "      <td>MG</td>\n",
              "      <td>10473</td>\n",
              "    </tr>\n",
              "    <tr>\n",
              "      <th>10</th>\n",
              "      <td>FEMININO</td>\n",
              "      <td>MS</td>\n",
              "      <td>1131</td>\n",
              "    </tr>\n",
              "    <tr>\n",
              "      <th>11</th>\n",
              "      <td>FEMININO</td>\n",
              "      <td>MT</td>\n",
              "      <td>1561</td>\n",
              "    </tr>\n",
              "    <tr>\n",
              "      <th>12</th>\n",
              "      <td>FEMININO</td>\n",
              "      <td>PA</td>\n",
              "      <td>2735</td>\n",
              "    </tr>\n",
              "    <tr>\n",
              "      <th>13</th>\n",
              "      <td>FEMININO</td>\n",
              "      <td>PB</td>\n",
              "      <td>1777</td>\n",
              "    </tr>\n",
              "    <tr>\n",
              "      <th>14</th>\n",
              "      <td>FEMININO</td>\n",
              "      <td>PE</td>\n",
              "      <td>2377</td>\n",
              "    </tr>\n",
              "    <tr>\n",
              "      <th>15</th>\n",
              "      <td>FEMININO</td>\n",
              "      <td>PI</td>\n",
              "      <td>1390</td>\n",
              "    </tr>\n",
              "    <tr>\n",
              "      <th>16</th>\n",
              "      <td>FEMININO</td>\n",
              "      <td>PR</td>\n",
              "      <td>4782</td>\n",
              "    </tr>\n",
              "    <tr>\n",
              "      <th>17</th>\n",
              "      <td>FEMININO</td>\n",
              "      <td>RJ</td>\n",
              "      <td>3197</td>\n",
              "    </tr>\n",
              "    <tr>\n",
              "      <th>18</th>\n",
              "      <td>FEMININO</td>\n",
              "      <td>RN</td>\n",
              "      <td>1339</td>\n",
              "    </tr>\n",
              "    <tr>\n",
              "      <th>19</th>\n",
              "      <td>FEMININO</td>\n",
              "      <td>RO</td>\n",
              "      <td>864</td>\n",
              "    </tr>\n",
              "    <tr>\n",
              "      <th>20</th>\n",
              "      <td>FEMININO</td>\n",
              "      <td>RR</td>\n",
              "      <td>247</td>\n",
              "    </tr>\n",
              "    <tr>\n",
              "      <th>21</th>\n",
              "      <td>FEMININO</td>\n",
              "      <td>RS</td>\n",
              "      <td>4293</td>\n",
              "    </tr>\n",
              "    <tr>\n",
              "      <th>22</th>\n",
              "      <td>FEMININO</td>\n",
              "      <td>SC</td>\n",
              "      <td>2352</td>\n",
              "    </tr>\n",
              "    <tr>\n",
              "      <th>23</th>\n",
              "      <td>FEMININO</td>\n",
              "      <td>SE</td>\n",
              "      <td>876</td>\n",
              "    </tr>\n",
              "    <tr>\n",
              "      <th>24</th>\n",
              "      <td>FEMININO</td>\n",
              "      <td>SP</td>\n",
              "      <td>13554</td>\n",
              "    </tr>\n",
              "    <tr>\n",
              "      <th>25</th>\n",
              "      <td>FEMININO</td>\n",
              "      <td>TO</td>\n",
              "      <td>1298</td>\n",
              "    </tr>\n",
              "  </tbody>\n",
              "</table>\n",
              "</div>"
            ],
            "text/plain": [
              "   DESCRICAO_SEXO SIGLA_UF  Candidatas\n",
              "0        FEMININO       AC         255\n",
              "1        FEMININO       AL        1254\n",
              "2        FEMININO       AM        1112\n",
              "3        FEMININO       AP         296\n",
              "4        FEMININO       BA        5137\n",
              "5        FEMININO       CE        2025\n",
              "6        FEMININO       ES        1201\n",
              "7        FEMININO       GO        2745\n",
              "8        FEMININO       MA        3102\n",
              "9        FEMININO       MG       10473\n",
              "10       FEMININO       MS        1131\n",
              "11       FEMININO       MT        1561\n",
              "12       FEMININO       PA        2735\n",
              "13       FEMININO       PB        1777\n",
              "14       FEMININO       PE        2377\n",
              "15       FEMININO       PI        1390\n",
              "16       FEMININO       PR        4782\n",
              "17       FEMININO       RJ        3197\n",
              "18       FEMININO       RN        1339\n",
              "19       FEMININO       RO         864\n",
              "20       FEMININO       RR         247\n",
              "21       FEMININO       RS        4293\n",
              "22       FEMININO       SC        2352\n",
              "23       FEMININO       SE         876\n",
              "24       FEMININO       SP       13554\n",
              "25       FEMININO       TO        1298"
            ]
          },
          "metadata": {
            "tags": []
          },
          "execution_count": 285
        }
      ]
    },
    {
      "cell_type": "code",
      "metadata": {
        "id": "5DFdY182Ryan"
      },
      "source": [
        " #recorte por lista partidária e município\n",
        " df1 = ele_08.groupby(['UF', 'ANO_ELEICAO', 'COD_MUN_IBGE', 'SIGLA_PARTIDO', 'DESCRICAO_SEXO'])[['DESCRICAO_SEXO']].count()\n",
        " df2 = ele_12.groupby(['UF', 'ANO_ELEICAO', 'COD_MUN_IBGE', 'SIGLA_PARTIDO', 'DESCRICAO_SEXO'])[['DESCRICAO_SEXO']].count()"
      ],
      "execution_count": 149,
      "outputs": []
    },
    {
      "cell_type": "code",
      "metadata": {
        "id": "UbJ5nbmRXOie"
      },
      "source": [
        "df1.columns=['CANDIDATOS']\n",
        "df2.columns=['CANDIDATOS']"
      ],
      "execution_count": 15,
      "outputs": []
    },
    {
      "cell_type": "code",
      "metadata": {
        "id": "lRSIYN-KXu7h"
      },
      "source": [
        "df1.reset_index(inplace=True)\n",
        "df2.reset_index(inplace=True)"
      ],
      "execution_count": 16,
      "outputs": []
    },
    {
      "cell_type": "code",
      "metadata": {
        "id": "hyh86WUBUZQq"
      },
      "source": [
        " df_1 = ele_08.groupby(['ANO_ELEICAO','UF', 'COD_MUN_IBGE', 'SIGLA_PARTIDO'],as_index=False)[['DESCRICAO_SEXO']].count()\n",
        " df_2 = ele_12.groupby(['ANO_ELEICAO', 'UF', 'COD_MUN_IBGE', 'SIGLA_PARTIDO'],as_index=False)[['DESCRICAO_SEXO']].count()"
      ],
      "execution_count": 18,
      "outputs": []
    },
    {
      "cell_type": "code",
      "metadata": {
        "id": "FMqVRtopVcG6"
      },
      "source": [
        "df_08 = pd.merge(df1, df_1, on=['UF','COD_MUN_IBGE','SIGLA_PARTIDO'])\n",
        "df_12 = pd.merge(df2, df_2, on=['UF','COD_MUN_IBGE','SIGLA_PARTIDO'])"
      ],
      "execution_count": 19,
      "outputs": []
    },
    {
      "cell_type": "code",
      "metadata": {
        "id": "NL-TBiH7YR5a"
      },
      "source": [
        "df_08['Percentual'] = df_08['CANDIDATOS']/df_08['DESCRICAO_SEXO_y']*100\n",
        "df_12['Percentual'] = df_12['CANDIDATOS']/df_12['DESCRICAO_SEXO_y']*100"
      ],
      "execution_count": 20,
      "outputs": []
    },
    {
      "cell_type": "code",
      "metadata": {
        "id": "M1hM3IZ8xViy"
      },
      "source": [
        "#recorte por município e genero apenas\n",
        "base1 = ele_08.groupby(['ANO_ELEICAO', 'UF', 'COD_MUN_IBGE', 'DESCRICAO_SEXO'])[['DESCRICAO_SEXO']].count()\n",
        "base2 = ele_12.groupby(['ANO_ELEICAO','UF', 'COD_MUN_IBGE', 'DESCRICAO_SEXO'])[['DESCRICAO_SEXO']].count()\n",
        "\n",
        "#junção e limpeza\n",
        "base1.columns=['CANDIDATOS']\n",
        "base2.columns=['CANDIDATOS']\n",
        "\n",
        "base1.reset_index(inplace=True)\n",
        "base2.reset_index(inplace=True)\n",
        "\n",
        "#agregar\n",
        "base_1 = ele_08.groupby(['UF', 'COD_MUN_IBGE'],as_index=False)[['DESCRICAO_SEXO']].count()\n",
        "base_2 = ele_12.groupby(['UF', 'COD_MUN_IBGE'],as_index=False)[['DESCRICAO_SEXO']].count()\n",
        "\n",
        " #mergir\n",
        "base_08 = pd.merge(base1, base_1, on=['UF','COD_MUN_IBGE'])\n",
        "base_12 = pd.merge(base2, base_2, on=['UF','COD_MUN_IBGE'])\n",
        "\n",
        "#%\n",
        "base_08['Percentual'] = base_08['CANDIDATOS']/base_08['DESCRICAO_SEXO_y']*100\n",
        "base_12['Percentual'] = base_12['CANDIDATOS']/base_12['DESCRICAO_SEXO_y']*100\n",
        "\n",
        "#renomear\n",
        "base_08 = base_08.rename(columns={'DESCRICAO_SEXO_x': 'DESCRICAO_SEXO', 'DESCRICAO_SEXO_y': 'Valor total de candidaturas' })\n",
        "base_12 = base_12.rename(columns={'DESCRICAO_SEXO_x': 'DESCRICAO_SEXO', 'DESCRICAO_SEXO_y': 'Valor total de candidaturas' })\n"
      ],
      "execution_count": 151,
      "outputs": []
    },
    {
      "cell_type": "code",
      "metadata": {
        "id": "iRfEQTzFZALU"
      },
      "source": [
        "teste = pd.concat([base_08, base_12])"
      ],
      "execution_count": 159,
      "outputs": []
    },
    {
      "cell_type": "code",
      "metadata": {
        "id": "PBXWAC6XmrTW"
      },
      "source": [
        "T = teste.groupby(['ANO_ELEICAO','DESCRICAO_SEXO'])[['Percentual']].mean()\n",
        "T.columns=['% Medio']\n",
        "T.reset_index(inplace=True)\n",
        "T.drop([0], axis=0)\n",
        "t1 = T[T['DESCRICAO_SEXO']=='FEMININO']\n",
        "t2 = T[T['DESCRICAO_SEXO']=='MASCULINO']\n",
        "sample = [20.297299, 28.350132]\n",
        "sample2 = [79.801092, 71.654960]"
      ],
      "execution_count": 206,
      "outputs": []
    },
    {
      "cell_type": "code",
      "metadata": {
        "id": "pDRs8mPdpoOJ"
      },
      "source": [
        "import warnings\n",
        "from pylab import rcParams\n",
        "from scipy.stats import f_oneway\n",
        "from scipy.stats import ttest_ind"
      ],
      "execution_count": 114,
      "outputs": []
    },
    {
      "cell_type": "code",
      "metadata": {
        "id": "iCL_1q8Wrsx6"
      },
      "source": [
        "%matplotlib inline\n",
        "warnings.filterwarnings(\"ignore\")\n",
        "rcParams['figure.figsize'] = 20,10\n",
        "rcParams['font.size'] = 30\n",
        "sns.set()\n",
        "np.random.seed(8)"
      ],
      "execution_count": 115,
      "outputs": []
    },
    {
      "cell_type": "code",
      "metadata": {
        "id": "SyG0ymCKsAsi"
      },
      "source": [
        "def plot_distribution(inp):\n",
        "    plt.figure()\n",
        "    ax = sns.distplot(inp)\n",
        "    plt.axvline(np.mean(inp), color=\"k\", linestyle=\"dashed\", linewidth=5)\n",
        "    _, max_ = plt.ylim()\n",
        "    plt.text(\n",
        "        inp.mean() + inp.mean() / 10,\n",
        "        max_ - max_ / 10,\n",
        "        \"Mean: {:.2f}\".format(inp.mean()),\n",
        "    )\n",
        "    return plt.figure"
      ],
      "execution_count": 183,
      "outputs": []
    },
    {
      "cell_type": "code",
      "metadata": {
        "id": "Gqs8_AeGsFma"
      },
      "source": [
        "from scipy.stats import wilcoxon"
      ],
      "execution_count": 194,
      "outputs": []
    },
    {
      "cell_type": "code",
      "metadata": {
        "colab": {
          "base_uri": "https://localhost:8080/"
        },
        "id": "5pA7sNbv0y0v",
        "outputId": "2d339e91-96ad-40d1-a98e-4a1ca3319809"
      },
      "source": [
        "stats.wilcoxon(sample, y=None, zero_method='wilcox', correction=False, alternative='two-sided')"
      ],
      "execution_count": 204,
      "outputs": [
        {
          "output_type": "execute_result",
          "data": {
            "text/plain": [
              "WilcoxonResult(statistic=0.0, pvalue=0.17971249487899976)"
            ]
          },
          "metadata": {
            "tags": []
          },
          "execution_count": 204
        }
      ]
    },
    {
      "cell_type": "code",
      "metadata": {
        "id": "IMBYq7x31Y24"
      },
      "source": [
        "def compare_2_groups(sample, sample2, alpha, sample_size):\n",
        "    stats, p = ttest_ind(sample, sample2)\n",
        "    print('Statistics=%.3f, p=%.3f' % (stats, p))\n",
        "    if p > alpha:\n",
        "        print('Same distributions (fail to reject H0)')\n",
        "    else:\n",
        "        print('Different distributions (reject H0)')"
      ],
      "execution_count": 207,
      "outputs": []
    },
    {
      "cell_type": "code",
      "metadata": {
        "colab": {
          "base_uri": "https://localhost:8080/"
        },
        "id": "2Xof9Uj34Cm0",
        "outputId": "d6d8323d-9b03-452a-ffb1-bbd8fc61d9f8"
      },
      "source": [
        "sample_size = 15\n",
        "test = np.random.choice(sample, sample_size)\n",
        "test2 = np.random.choice(sample2, sample_size)\n",
        "compare_2_groups(sample, sample2, 0.05, sample_size)"
      ],
      "execution_count": 208,
      "outputs": [
        {
          "output_type": "stream",
          "text": [
            "Statistics=-8.975, p=0.012\n",
            "Different distributions (reject H0)\n"
          ],
          "name": "stdout"
        }
      ]
    }
  ]
}